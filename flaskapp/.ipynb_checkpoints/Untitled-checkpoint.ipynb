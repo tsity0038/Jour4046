{
 "cells": [
  {
   "cell_type": "code",
   "execution_count": 1,
   "metadata": {},
   "outputs": [
    {
     "name": "stdout",
     "output_type": "stream",
     "text": [
      "Requirement already satisfied: Werkzeug in c:\\programdata\\anaconda3\\lib\\site-packages (0.15.4)\n"
     ]
    }
   ],
   "source": [
    "import sys\n",
    "\n",
    "!pip install Werkzeug"
   ]
  },
  {
   "cell_type": "code",
   "execution_count": null,
   "metadata": {},
   "outputs": [
    {
     "name": "stderr",
     "output_type": "stream",
     "text": [
      " * Running on http://localhost:9003/ (Press CTRL+C to quit)\n",
      "127.0.0.1 - - [17/Sep/2019 20:41:19] \"GET / HTTP/1.1\" 200 -\n",
      "127.0.0.1 - - [17/Sep/2019 20:41:19] \"GET /album.css HTTP/1.1\" 404 -\n",
      "127.0.0.1 - - [17/Sep/2019 20:41:19] \"GET /docs/4.3/dist/js/bootstrap.bundle.min.js HTTP/1.1\" 404 -\n"
     ]
    }
   ],
   "source": [
    "\n",
    "\n",
    "# A very simple Flask Hello World app for you to get started with...\n",
    "import os\n",
    "from werkzeug.wsgi import SharedDataMiddleware\n",
    "from flask import Flask, render_template\n",
    "app = Flask(__name__)\n",
    "\n",
    "# @app.route('/')\n",
    "# def hello_world():\n",
    "#     return 'Hello from Jeremy!'\n",
    "\n",
    "@app.route(\"/\")\n",
    "def home():\n",
    "    return render_template('myhome.html')\n",
    "\n",
    "@app.route(\"/aboutus\")\n",
    "def aboutus():\n",
    "    return render_template('aboutus.html')\n",
    "\n",
    "if __name__ == '__main__':\n",
    "    from werkzeug.serving import run_simple\n",
    "    run_simple('localhost', 9003, app)"
   ]
  },
  {
   "cell_type": "code",
   "execution_count": null,
   "metadata": {},
   "outputs": [],
   "source": []
  }
 ],
 "metadata": {
  "kernelspec": {
   "display_name": "Python 3",
   "language": "python",
   "name": "python3"
  },
  "language_info": {
   "codemirror_mode": {
    "name": "ipython",
    "version": 3
   },
   "file_extension": ".py",
   "mimetype": "text/x-python",
   "name": "python",
   "nbconvert_exporter": "python",
   "pygments_lexer": "ipython3",
   "version": "3.7.3"
  }
 },
 "nbformat": 4,
 "nbformat_minor": 2
}
